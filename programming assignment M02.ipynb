{
 "cells": [
  {
   "cell_type": "code",
   "execution_count": 2,
   "id": "5cdb34d0",
   "metadata": {},
   "outputs": [
    {
     "name": "stdout",
     "output_type": "stream",
     "text": [
      "Guess value is =  8\n",
      "Secret value is =  2\n",
      "too high!\n"
     ]
    }
   ],
   "source": [
    "import random\n",
    "\n",
    "#get the secret and guess values between 1 and 10...\n",
    "secret = random.randint(1,10)\n",
    "guess = random.randint(1,10)\n",
    "\n",
    "#printing the value of Guess and secret...\n",
    "print(\"Guess value is = \", guess)\n",
    "print(\"Secret value is = \", secret)\n",
    "\n",
    "#check if the guess is less than secret then print 'too low'...\n",
    "if guess < secret:\n",
    "    print(\"too low\")\n",
    "\n",
    "#Check if the guess is greater than secret then prints 'too high'...\n",
    "elif guess > secret:\n",
    "    print(\"too high\")\n",
    "    \n",
    "# both values are the same so print 'just right'...\n",
    "else\n",
    "    print(\"just right\")\n"
   ]
  },
  {
   "cell_type": "code",
   "execution_count": 3,
   "id": "50924e16",
   "metadata": {},
   "outputs": [
    {
     "name": "stdout",
     "output_type": "stream",
     "text": [
      "cherry\n"
     ]
    }
   ],
   "source": [
    "# Assign True or False to the variables small and green\n",
    "small = True\n",
    "green = False\n",
    "\n",
    "if small:  # if small is True\n",
    "    if green:  # if small is True and green is True\n",
    "        print(\"pea\")  # then print pea\n",
    "    else:  # if small is True and green is False\n",
    "        print(\"cherry\")  # then print cherry\n",
    "else:  # is small is False\n",
    "    if green:  # if small is False and green is True\n",
    "        print(\"watermelon\")  # then print watermelon\n",
    "    else:  # if small is False and green is False\n",
    "        print(\"pumpkin\")  # then print pumpkin\n",
    " "
   ]
  },
  {
   "cell_type": "code",
   "execution_count": 7,
   "id": "1fd06096",
   "metadata": {},
   "outputs": [
    {
     "name": "stdout",
     "output_type": "stream",
     "text": [
      "3\n",
      "2\n",
      "1\n",
      "0\n"
     ]
    }
   ],
   "source": [
    "for i in [3, 2, 1, 0]:\n",
    "    print(i)"
   ]
  },
  {
   "cell_type": "code",
   "execution_count": 9,
   "id": "f8f3d2b6",
   "metadata": {},
   "outputs": [
    {
     "name": "stdout",
     "output_type": "stream",
     "text": [
      "too low\n",
      "too low\n",
      "too low\n",
      "too low\n",
      "too low\n",
      "too low\n",
      "found it!\n"
     ]
    }
   ],
   "source": [
    "guess_me = 7\n",
    "number = 1\n",
    "\n",
    "while number <= guess_me:\n",
    "    if number < guess_me:\n",
    "        print('too low')\n",
    "    elif number == guess_me:\n",
    "        print('found it!')\n",
    "        break\n",
    "    else:\n",
    "        print('oops')\n",
    "        break\n",
    "    number += 1 "
   ]
  },
  {
   "cell_type": "code",
   "execution_count": 10,
   "id": "3082a5a8",
   "metadata": {},
   "outputs": [
    {
     "name": "stdout",
     "output_type": "stream",
     "text": [
      "too low\n",
      "too low\n",
      "too low\n",
      "too low\n",
      "too low\n",
      "found it!\n"
     ]
    }
   ],
   "source": [
    "guess_me = 5\n",
    "\n",
    "for number in range(10):\n",
    "    if number < guess_me:\n",
    "        print('too low')\n",
    "    elif number == guess_me:\n",
    "        print('found it!')\n",
    "        break\n",
    "    else:\n",
    "        print('oops')\n",
    "        break"
   ]
  },
  {
   "cell_type": "code",
   "execution_count": null,
   "id": "af54b7d3",
   "metadata": {},
   "outputs": [],
   "source": []
  }
 ],
 "metadata": {
  "kernelspec": {
   "display_name": "Python 3 (ipykernel)",
   "language": "python",
   "name": "python3"
  },
  "language_info": {
   "codemirror_mode": {
    "name": "ipython",
    "version": 3
   },
   "file_extension": ".py",
   "mimetype": "text/x-python",
   "name": "python",
   "nbconvert_exporter": "python",
   "pygments_lexer": "ipython3",
   "version": "3.10.9"
  }
 },
 "nbformat": 4,
 "nbformat_minor": 5
}
